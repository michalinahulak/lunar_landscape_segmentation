{
  "cells": [
    {
      "cell_type": "markdown",
      "metadata": {
        "id": "view-in-github",
        "colab_type": "text"
      },
      "source": [
        "<a href=\"https://colab.research.google.com/github/michalinahulak/lunar_landscape_segmentation/blob/main/Lunar_landscape.ipynb\" target=\"_parent\"><img src=\"https://colab.research.google.com/assets/colab-badge.svg\" alt=\"Open In Colab\"/></a>"
      ]
    },
    {
      "cell_type": "markdown",
      "metadata": {
        "id": "4ndAtfmP3yWQ"
      },
      "source": [
        "# Imports"
      ]
    },
    {
      "cell_type": "code",
      "execution_count": null,
      "metadata": {
        "id": "sPfRAf4ox2p4"
      },
      "outputs": [],
      "source": [
        "!pip install kaggle"
      ]
    },
    {
      "cell_type": "code",
      "execution_count": null,
      "metadata": {
        "id": "8FgoF3aYdLm4"
      },
      "outputs": [],
      "source": [
        "pip install segmentation-models-pytorch"
      ]
    },
    {
      "cell_type": "code",
      "execution_count": null,
      "metadata": {
        "id": "t07-ydjS38nd"
      },
      "outputs": [],
      "source": [
        "!pip install -U neptune"
      ]
    },
    {
      "cell_type": "code",
      "execution_count": null,
      "metadata": {
        "id": "jJ2ng30NzyNW"
      },
      "outputs": [],
      "source": [
        "import pandas as pd\n",
        "import numpy as np\n",
        "import zipfile\n",
        "import os\n",
        "import cv2\n",
        "\n",
        "from sklearn.model_selection import train_test_split\n",
        "\n",
        "from PIL import Image\n",
        "\n",
        "import torch\n",
        "import torchvision.transforms as transforms\n",
        "from torch.utils.data import DataLoader, Dataset\n",
        "from torchvision.datasets import ImageFolder\n",
        "import torch.nn as nn\n",
        "\n",
        "import segmentation_models_pytorch as smp\n",
        "import neptune"
      ]
    },
    {
      "cell_type": "markdown",
      "metadata": {
        "id": "FyrSjvgQVXHS"
      },
      "source": [
        "# Functions"
      ]
    },
    {
      "cell_type": "code",
      "execution_count": null,
      "metadata": {
        "id": "rlk94eSrZsiV"
      },
      "outputs": [],
      "source": [
        "H = 128\n",
        "W = 128\n",
        "\n",
        "class CustomDataset(Dataset):\n",
        "    def __init__(self, img_paths, mask_paths):\n",
        "        self.img_paths = img_paths\n",
        "        self.mask_paths = mask_paths\n",
        "        self.transform = transforms.Compose([\n",
        "            transforms.Resize((H, W)),\n",
        "            transforms.ToTensor(),\n",
        "        ])\n",
        "\n",
        "    def __len__(self):\n",
        "        return len(self.img_paths)\n",
        "\n",
        "    def __getitem__(self, index):\n",
        "        img_path = self.img_paths[index]\n",
        "        mask_path = self.mask_paths[index]\n",
        "\n",
        "        img = Image.open(img_path).convert('RGB')\n",
        "        img = self.transform(img)\n",
        "\n",
        "        mask = Image.open(mask_path).convert('L')\n",
        "        mask = mask.resize((W, H), resample=Image.NEAREST)  # Resize mask to match image size\n",
        "        mask = np.array(mask)\n",
        "\n",
        "        mask_tensor = torch.zeros((H, W), dtype=torch.long)\n",
        "\n",
        "        mask_tensor[mask == 0] = 0  # Background (black)\n",
        "        mask_tensor[mask == 1] = 1  # Large rocks (blue)\n",
        "        mask_tensor[mask == 2] = 2  # Smaller rocks (green)\n",
        "        mask_tensor[mask == 3] = 3  # Sky (red)\n",
        "\n",
        "        return img, mask_tensor\n",
        "\n",
        "def load_data(X_dir, y_dir, batch_size=32, num_workers=2):\n",
        "    transform = transforms.Compose([\n",
        "        transforms.ToTensor(),\n",
        "        transforms.Resize((H, W)),\n",
        "    ])\n",
        "\n",
        "    X = [os.path.join(X_dir, x) for x in sorted(os.listdir(X_dir))]\n",
        "    y = [os.path.join(y_dir, x) for x in sorted(os.listdir(y_dir))]\n",
        "\n",
        "    dataset = CustomDataset(X, y)\n",
        "    train_size = int(0.8 * len(dataset))\n",
        "    test_size = len(dataset) - train_size\n",
        "    train_dataset, test_dataset = torch.utils.data.random_split(dataset, [train_size, test_size])\n",
        "\n",
        "    train_loader = DataLoader(train_dataset, batch_size=batch_size, shuffle=True, num_workers=num_workers)\n",
        "    test_loader = DataLoader(test_dataset, batch_size=batch_size, shuffle=False, num_workers=num_workers)\n",
        "\n",
        "    return train_loader, test_loader"
      ]
    },
    {
      "cell_type": "markdown",
      "metadata": {
        "id": "a5TfHQWW27rI"
      },
      "source": [
        "# Upload dataset"
      ]
    },
    {
      "cell_type": "code",
      "execution_count": null,
      "metadata": {
        "id": "GtVscwhZybII"
      },
      "outputs": [],
      "source": [
        "#upload your kaggle.json file\n",
        "\n",
        "from google.colab import files\n",
        "files.upload()"
      ]
    },
    {
      "cell_type": "code",
      "execution_count": null,
      "metadata": {
        "id": "LQq6oBKhyjc0"
      },
      "outputs": [],
      "source": [
        "!mkdir -p ~/.kaggle\n",
        "!cp kaggle.json ~/.kaggle/\n",
        "!chmod 600 ~/.kaggle/kaggle.json"
      ]
    },
    {
      "cell_type": "code",
      "execution_count": null,
      "metadata": {
        "colab": {
          "base_uri": "https://localhost:8080/"
        },
        "id": "YXCFpneFyohz",
        "outputId": "450df5be-543f-4b07-b237-69105525af9f"
      },
      "outputs": [
        {
          "name": "stdout",
          "output_type": "stream",
          "text": [
            "Downloading artificial-lunar-rocky-landscape-dataset.zip to /content\n",
            "100% 5.01G/5.02G [01:18<00:00, 56.8MB/s]\n",
            "100% 5.02G/5.02G [01:18<00:00, 68.4MB/s]\n"
          ]
        }
      ],
      "source": [
        "!kaggle datasets download -d romainpessia/artificial-lunar-rocky-landscape-dataset"
      ]
    },
    {
      "cell_type": "code",
      "execution_count": null,
      "metadata": {
        "colab": {
          "base_uri": "https://localhost:8080/"
        },
        "id": "ezFxvTT43R3N",
        "outputId": "60b66532-b4a3-4bfe-dcfb-e9b434f98e9d"
      },
      "outputs": [
        {
          "name": "stdout",
          "output_type": "stream",
          "text": [
            "File has been extracted.\n"
          ]
        }
      ],
      "source": [
        "#unzip \n",
        "zip_file_path = '/content/artificial-lunar-rocky-landscape-dataset.zip'\n",
        "extract_dir = '/content/dataset'\n",
        "\n",
        "with zipfile.ZipFile(zip_file_path, 'r') as zip_ref:\n",
        "    zip_ref.extractall(extract_dir)\n",
        "\n",
        "print(\"File has been extracted.\")"
      ]
    },
    {
      "cell_type": "markdown",
      "metadata": {
        "id": "tEUSvd48aSss"
      },
      "source": [
        "# Load data"
      ]
    },
    {
      "cell_type": "code",
      "execution_count": null,
      "metadata": {
        "colab": {
          "base_uri": "https://localhost:8080/"
        },
        "id": "NL57_IpuY8Uf",
        "outputId": "cd52d9ed-cbf7-4238-935e-af618da9b2e2"
      },
      "outputs": [
        {
          "name": "stdout",
          "output_type": "stream",
          "text": [
            "Dataset:\n",
            " Train: 7812 \n",
            " Test: 1954\n"
          ]
        }
      ],
      "source": [
        "RENDER_IMAGE_DIR_PATH = '/content/dataset/images/render'\n",
        "GROUND_MASK_DIR_PATH = '/content/dataset/images/clean'\n",
        "\n",
        "train_loader, test_loader = load_data(RENDER_IMAGE_DIR_PATH, GROUND_MASK_DIR_PATH)\n",
        "print(f\"Dataset:\\n Train: {len(train_loader.dataset)} \\n Test: {len(test_loader.dataset)}\")"
      ]
    },
    {
      "cell_type": "markdown",
      "metadata": {
        "id": "lwYM5bW2aT_M"
      },
      "source": [
        "# Transfer learning"
      ]
    },
    {
      "cell_type": "code",
      "execution_count": null,
      "metadata": {
        "id": "lDhIz2sHTECi"
      },
      "outputs": [],
      "source": [
        "model = smp.Unet(\n",
        "    encoder_name='resnet50',\n",
        "    encoder_weights='imagenet',\n",
        "    in_channels=3,\n",
        "    classes=4\n",
        ")\n",
        "\n",
        "criterion = nn.CrossEntropyLoss(ignore_index=255)\n",
        "optimizer = torch.optim.Adam(model.parameters(), lr=0.001)\n",
        "\n",
        "# Setting the device\n",
        "device = torch.device(\"cuda\" if torch.cuda.is_available() else \"cpu\")\n",
        "model = model.to(device)\n",
        "\n",
        "# Training loop\n",
        "epochs = 3\n",
        "for epoch in range(epochs):\n",
        "    # Training\n",
        "    model.train()\n",
        "    running_loss = 0.0\n",
        "    for images, masks in train_loader:\n",
        "        images = images.to(device)\n",
        "        masks = masks.to(device)\n",
        "\n",
        "        optimizer.zero_grad()\n",
        "\n",
        "        outputs = model(images)\n",
        "        loss = criterion(outputs, masks)\n",
        "        \n",
        "        loss.backward()\n",
        "        optimizer.step()\n",
        "\n",
        "        running_loss += loss.item() * images.size(0)\n",
        "\n",
        "    # Validation\n",
        "    model.eval()\n",
        "    val_loss = 0.0\n",
        "    with torch.no_grad():\n",
        "        for images, masks in test_loader:\n",
        "            images = images.to(device)\n",
        "            masks = masks.to(device)\n",
        "\n",
        "            outputs = model(images)\n",
        "            loss = criterion(outputs, masks)\n",
        "            \n",
        "            val_loss += loss.item() * images.size(0)\n",
        "\n",
        "    epoch_loss = running_loss / len(train_loader.dataset)\n",
        "    epoch_val_loss = val_loss / len(test_loader.dataset)\n",
        "\n",
        "    print(f\"Epoch: {epoch+1}/{epochs}, Loss: {epoch_loss:.4f}, Val Loss: {epoch_val_loss:.4f}\")"
      ]
    },
    {
      "cell_type": "code",
      "execution_count": null,
      "metadata": {
        "colab": {
          "base_uri": "https://localhost:8080/"
        },
        "id": "a189HA8y5ZFb",
        "outputId": "db8a5ed1-3572-4319-ba8d-d37e39410666"
      },
      "outputs": [
        {
          "name": "stdout",
          "output_type": "stream",
          "text": [
            "Enter your Neptune API token: ··········\n"
          ]
        }
      ],
      "source": [
        "from getpass import getpass\n",
        "\n",
        "my_api_token = getpass(\"Enter your Neptune API token: \")"
      ]
    },
    {
      "cell_type": "code",
      "execution_count": null,
      "metadata": {
        "id": "uueLWKcB5ftV"
      },
      "outputs": [],
      "source": [
        "my_project = \"michalinahulak/lunar-landscape\""
      ]
    },
    {
      "cell_type": "code",
      "execution_count": null,
      "metadata": {
        "colab": {
          "base_uri": "https://localhost:8080/"
        },
        "id": "RXf9hLto6Gzk",
        "outputId": "2b562ddb-af9a-4efa-d2f1-f58d133c4b6b"
      },
      "outputs": [
        {
          "name": "stdout",
          "output_type": "stream",
          "text": [
            "https://app.neptune.ai/michalinahulak/lunar-landscape/e/LUN-2\n"
          ]
        },
        {
          "name": "stderr",
          "output_type": "stream",
          "text": [
            "WARNING:neptune.internal.hardware.gpu.gpu_monitor:Info (NVML): NVML Shared Library Not Found. GPU usage metrics may not be reported. For more information, see https://docs.neptune.ai/help/nvml_error/\n"
          ]
        }
      ],
      "source": [
        "run = neptune.init_run(\n",
        "    project=my_project,\n",
        "    api_token=my_api_token,\n",
        "    capture_hardware_metrics=True,\n",
        "    capture_stderr=True,\n",
        "    capture_stdout=True,\n",
        ")"
      ]
    },
    {
      "cell_type": "code",
      "execution_count": null,
      "metadata": {
        "colab": {
          "background_save": true
        },
        "id": "yziIv_8i4dAE",
        "outputId": "6c265e9a-24f1-4745-f59b-b6574da0c0e5"
      },
      "outputs": [
        {
          "name": "stdout",
          "output_type": "stream",
          "text": [
            "Epoch: 1/3, Loss: 0.0101, Val Loss: 0.0022\n"
          ]
        }
      ],
      "source": [
        "# Przypisanie metadanych do run\n",
        "run[\"parameters\"] = {\n",
        "    \"encoder_name\": \"resnet50\",\n",
        "    \"encoder_weights\": \"imagenet\",\n",
        "    \"in_channels\": 3,\n",
        "    \"classes\": 4,\n",
        "    \"lr\": 0.001,\n",
        "    \"epochs\": 3,\n",
        "}\n",
        "\n",
        "# Pętla trenowania\n",
        "for epoch in range(epochs):\n",
        "    # Ustalenie modelu w trybie treningowym\n",
        "    model.train()\n",
        "\n",
        "    # Inicjalizacja wartości bieżącej straty\n",
        "    running_loss = 0.0\n",
        "\n",
        "    # Iteracja po danych treningowych\n",
        "    for images, masks in train_loader:\n",
        "        # Przeniesienie danych na urządzenie (CPU lub GPU)\n",
        "        images = images.to(device)\n",
        "        masks = masks.to(device)\n",
        "\n",
        "        # Wyzerowanie gradientów\n",
        "        optimizer.zero_grad()\n",
        "\n",
        "        # Przekazanie danych przez model\n",
        "        outputs = model(images)\n",
        "\n",
        "        # Obliczenie straty\n",
        "        loss = criterion(outputs, masks)\n",
        "\n",
        "        # Propagacja wsteczna i aktualizacja wag\n",
        "        loss.backward()\n",
        "        optimizer.step()\n",
        "\n",
        "        # Aktualizacja bieżącej straty\n",
        "        running_loss += loss.item() * images.size(0)\n",
        "\n",
        "    # Obliczenie straty treningowej na epokę\n",
        "    epoch_loss = running_loss / len(train_loader.dataset)\n",
        "\n",
        "    # Ustalenie modelu w trybie ewaluacji (bez obliczania gradientów)\n",
        "    model.eval()\n",
        "\n",
        "    # Inicjalizacja wartości straty walidacyjnej\n",
        "    val_loss = 0.0\n",
        "\n",
        "    # Wyłączenie obliczania gradientów i propagacji wstecznej dla danych walidacyjnych\n",
        "    with torch.no_grad():\n",
        "        for images, masks in test_loader:\n",
        "            images = images.to(device)\n",
        "            masks = masks.to(device)\n",
        "\n",
        "            outputs = model(images)\n",
        "            loss = criterion(outputs, masks)\n",
        "\n",
        "            val_loss += loss.item() * images.size(0)\n",
        "\n",
        "    # Obliczenie straty walidacyjnej na epokę\n",
        "    epoch_val_loss = val_loss / len(test_loader.dataset)\n",
        "\n",
        "    # Logowanie metryk do Neptune\n",
        "    run[\"train/loss\"].log(epoch_loss)\n",
        "    run[\"val/loss\"].log(epoch_val_loss)\n",
        "\n",
        "    # Wyświetlanie informacji o epoce\n",
        "    print(f\"Epoch: {epoch+1}/{epochs}, Loss: {epoch_loss:.4f}, Val Loss: {epoch_val_loss:.4f}\")\n",
        "\n",
        "# Zakończenie run Neptune\n",
        "run.stop()"
      ]
    }
  ],
  "metadata": {
    "colab": {
      "toc_visible": true,
      "provenance": [],
      "mount_file_id": "14lAMJ3bk4GFPS5pXsqZfOUvkFrNqAqR0",
      "authorship_tag": "ABX9TyPuJKp+FKB5BngZsnJ83Q2o",
      "include_colab_link": true
    },
    "kernelspec": {
      "display_name": "Python 3",
      "name": "python3"
    },
    "language_info": {
      "name": "python"
    }
  },
  "nbformat": 4,
  "nbformat_minor": 0
}